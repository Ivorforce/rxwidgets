{
 "cells": [
  {
   "cell_type": "code",
   "execution_count": null,
   "id": "3168ff16-acbf-40be-a325-ae1543c8ef42",
   "metadata": {},
   "outputs": [],
   "source": [
    "from rxwidgets import ipython as rxi, rx as rxn\n",
    "import ipywidgets"
   ]
  },
  {
   "cell_type": "code",
   "execution_count": null,
   "id": "316bd621-3419-4dc1-b3bc-3a0ab6570b8d",
   "metadata": {},
   "outputs": [],
   "source": [
    "# @interact converts the function into an automap stream, with its arguments interpreted into widgets.\n",
    "\n",
    "@rxi.interact\n",
    "def c(a=(2, 10), b=(10, 100, 10)):    \n",
    "    c = a * b\n",
    "    print(f\"c = {c}\")\n",
    "    return c\n",
    "\n",
    "@rxi.interact\n",
    "def e(c=c, d=ipywidgets.IntSlider(description=\"d\", min=1, max=10)):\n",
    "    print(f\"e: {c + d}\")"
   ]
  },
  {
   "cell_type": "code",
   "execution_count": null,
   "id": "ca718e44-9f87-49be-9c9a-be3bc6e7560c",
   "metadata": {},
   "outputs": [],
   "source": [
    "# @interact_manual only runs the function once Continue is clicked.\n",
    "\n",
    "@rxi.interact_manual\n",
    "def b(a=(2, 10)):\n",
    "    print(f\"b: {a + 2}\")"
   ]
  },
  {
   "cell_type": "code",
   "execution_count": null,
   "id": "7e903819-5166-4431-8c78-1391c763b574",
   "metadata": {},
   "outputs": [],
   "source": [
    "# automap streams support interactions like normal. rxi.print conveniently prints the results of a stream.\n",
    "\n",
    "@rxi.interact\n",
    "def b(a=(2, 10)):\n",
    "    return a\n",
    "\n",
    "c = b * 2 + 1\n",
    "rxi.print(c);"
   ]
  },
  {
   "cell_type": "code",
   "execution_count": null,
   "id": "bf299553-7e48-49cd-b4d1-fca6b7e8d775",
   "metadata": {},
   "outputs": [],
   "source": [
    "# errors are transient and will only be rendered once.\n",
    "@rxi.interact\n",
    "def b(a=(0, 10)):\n",
    "    if a < 8:\n",
    "        raise Exception(f\"a = {a} < 8\")\n",
    "    return a\n",
    "\n",
    "@rxi.interact\n",
    "def c(b=b):\n",
    "    print(f\"b = {b}\")\n"
   ]
  },
  {
   "cell_type": "code",
   "execution_count": null,
   "id": "9a485508-f37b-47b3-9ec6-65a9f9d2dc43",
   "metadata": {},
   "outputs": [],
   "source": []
  }
 ],
 "metadata": {
  "kernelspec": {
   "display_name": "Python (KUM)",
   "language": "python",
   "name": "kum"
  },
  "language_info": {
   "codemirror_mode": {
    "name": "ipython",
    "version": 3
   },
   "file_extension": ".py",
   "mimetype": "text/x-python",
   "name": "python",
   "nbconvert_exporter": "python",
   "pygments_lexer": "ipython3",
   "version": "3.10.2"
  }
 },
 "nbformat": 4,
 "nbformat_minor": 5
}