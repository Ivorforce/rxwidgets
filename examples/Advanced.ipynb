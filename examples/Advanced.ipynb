{
 "cells": [
  {
   "cell_type": "code",
   "execution_count": 6,
   "id": "3168ff16-acbf-40be-a325-ae1543c8ef42",
   "metadata": {},
   "outputs": [],
   "source": [
    "from rxwidgets import ipython as rxi, rx as rxn\n",
    "import ipywidgets\n",
    "import time\n",
    "import random"
   ]
  },
  {
   "cell_type": "code",
   "execution_count": 2,
   "id": "316bd621-3419-4dc1-b3bc-3a0ab6570b8d",
   "metadata": {},
   "outputs": [
    {
     "data": {
      "application/vnd.jupyter.widget-view+json": {
       "model_id": "7a111fa632a343a99880a5441442a24c",
       "version_major": 2,
       "version_minor": 0
      },
      "text/plain": [
       "IntSlider(value=6, description='a', max=10, min=2)"
      ]
     },
     "metadata": {},
     "output_type": "display_data"
    },
    {
     "data": {
      "application/vnd.jupyter.widget-view+json": {
       "model_id": "718f84e0ca0a4593aafe207043de5d84",
       "version_major": 2,
       "version_minor": 0
      },
      "text/plain": [
       "IntSlider(value=50, description='b', min=10, step=10)"
      ]
     },
     "metadata": {},
     "output_type": "display_data"
    },
    {
     "data": {
      "application/vnd.jupyter.widget-view+json": {
       "model_id": "58764c1eb41345098448c51f1ddff9fb",
       "version_major": 2,
       "version_minor": 0
      },
      "text/plain": [
       "VBox(children=(Output(), HTML(value='<i class=\"fas fa-circle-notch fa-spin fa-3x\">', layout=Layout(display='no…"
      ]
     },
     "metadata": {},
     "output_type": "display_data"
    },
    {
     "data": {
      "application/vnd.jupyter.widget-view+json": {
       "model_id": "0e0fb2c29e4847c29a983a33f9e07b1c",
       "version_major": 2,
       "version_minor": 0
      },
      "text/plain": [
       "IntSlider(value=6, description='a', max=10, min=2)"
      ]
     },
     "metadata": {},
     "output_type": "display_data"
    },
    {
     "data": {
      "application/vnd.jupyter.widget-view+json": {
       "model_id": "20e0709894a54cd0b5587993b2e0ac03",
       "version_major": 2,
       "version_minor": 0
      },
      "text/plain": [
       "IntSlider(value=50, description='b', min=10, step=10)"
      ]
     },
     "metadata": {},
     "output_type": "display_data"
    },
    {
     "data": {
      "application/vnd.jupyter.widget-view+json": {
       "model_id": "caecdc40988b4efb831f746aa43e7770",
       "version_major": 2,
       "version_minor": 0
      },
      "text/plain": [
       "ToggleButton(value=False, description='Continue', disabled=True, icon='caret-right')"
      ]
     },
     "metadata": {},
     "output_type": "display_data"
    },
    {
     "data": {
      "application/vnd.jupyter.widget-view+json": {
       "model_id": "9f623be6aac54a2696158187c93bb201",
       "version_major": 2,
       "version_minor": 0
      },
      "text/plain": [
       "VBox(children=(Output(), HTML(value='<i class=\"fas fa-circle-notch fa-spin fa-3x\">', layout=Layout(display='no…"
      ]
     },
     "metadata": {},
     "output_type": "display_data"
    }
   ],
   "source": [
    "# @interact corresponds to calls to stream, apply, voodoo\n",
    "\n",
    "@rxi.voodoo\n",
    "@rxi.apply\n",
    "@rxi.stream\n",
    "def c(a=(2, 10), b=(10, 100, 10)):    \n",
    "    print(f\"c = {a + b}\")\n",
    "    \n",
    "# @interact_manual corresponds to calls to stream, defer, apply, voodoo\n",
    "\n",
    "@rxi.voodoo\n",
    "@rxi.apply\n",
    "@rxi.defer\n",
    "@rxi.stream\n",
    "def c(a=(2, 10), b=(10, 100, 10)):    \n",
    "    print(f\"c = {a + b}\")"
   ]
  },
  {
   "cell_type": "code",
   "execution_count": 13,
   "id": "ca718e44-9f87-49be-9c9a-be3bc6e7560c",
   "metadata": {},
   "outputs": [
    {
     "data": {
      "application/vnd.jupyter.widget-view+json": {
       "model_id": "8af328899c5048338b92bc0d901501b9",
       "version_major": 2,
       "version_minor": 0
      },
      "text/plain": [
       "IntSlider(value=6, description='a', max=10, min=2)"
      ]
     },
     "metadata": {},
     "output_type": "display_data"
    },
    {
     "data": {
      "application/vnd.jupyter.widget-view+json": {
       "model_id": "30b8f4d1094f48189936155bcbcc4c45",
       "version_major": 2,
       "version_minor": 0
      },
      "text/plain": [
       "IntSlider(value=50, description='b', min=10, step=10)"
      ]
     },
     "metadata": {},
     "output_type": "display_data"
    },
    {
     "data": {
      "application/vnd.jupyter.widget-view+json": {
       "model_id": "78cd38f16e11402781ba1f4009fc10db",
       "version_major": 2,
       "version_minor": 0
      },
      "text/plain": [
       "ToggleButton(value=False, description='Continue', disabled=True, icon='caret-right')"
      ]
     },
     "metadata": {},
     "output_type": "display_data"
    },
    {
     "data": {
      "application/vnd.jupyter.widget-view+json": {
       "model_id": "06941150cc6541aab306389675e16a93",
       "version_major": 2,
       "version_minor": 0
      },
      "text/plain": [
       "VBox(children=(Output(), HTML(value='<i class=\"fas fa-circle-notch fa-spin fa-3x\">', layout=Layout(display='no…"
      ]
     },
     "metadata": {},
     "output_type": "display_data"
    }
   ],
   "source": [
    "# Long running functions can make use of @rxi.long. This inserts loading indicators\n",
    "\n",
    "@rxi.apply\n",
    "@rxi.long\n",
    "@rxi.defer\n",
    "@rxi.stream\n",
    "def c(a=(2, 10), b=(10, 100, 10)):    \n",
    "    time.sleep(2)\n",
    "    print(f\"c = {a + b}\")"
   ]
  },
  {
   "cell_type": "code",
   "execution_count": 12,
   "id": "7e903819-5166-4431-8c78-1391c763b574",
   "metadata": {},
   "outputs": [
    {
     "data": {
      "application/vnd.jupyter.widget-view+json": {
       "model_id": "7203f1ddb61c4a0cb212f46250a81d5e",
       "version_major": 2,
       "version_minor": 0
      },
      "text/plain": [
       "IntSlider(value=6, description='a', max=10, min=2)"
      ]
     },
     "metadata": {},
     "output_type": "display_data"
    },
    {
     "data": {
      "application/vnd.jupyter.widget-view+json": {
       "model_id": "7e7c600fa1c34181a562e93d2f83da6d",
       "version_major": 2,
       "version_minor": 0
      },
      "text/plain": [
       "ToggleButton(value=False, description='Randomize', disabled=True, icon='caret-right')"
      ]
     },
     "metadata": {},
     "output_type": "display_data"
    },
    {
     "data": {
      "application/vnd.jupyter.widget-view+json": {
       "model_id": "eb950cbcb3be4170b4d5c80d3986397f",
       "version_major": 2,
       "version_minor": 0
      },
      "text/plain": [
       "VBox(children=(Output(), HTML(value='<i class=\"fas fa-circle-notch fa-spin fa-3x\">', layout=Layout(display='no…"
      ]
     },
     "metadata": {},
     "output_type": "display_data"
    }
   ],
   "source": [
    "# Transient or IO functions can make use of retriggerable defers\n",
    "\n",
    "@rxi.apply\n",
    "@rxi.defer(retrigger=True, title=\"Randomize\")\n",
    "@rxi.stream\n",
    "def b(a=(2, 10)):\n",
    "    print(f\"b = {a * random.randrange(10)}\")"
   ]
  },
  {
   "cell_type": "code",
   "execution_count": 16,
   "id": "bf299553-7e48-49cd-b4d1-fca6b7e8d775",
   "metadata": {},
   "outputs": [
    {
     "data": {
      "application/vnd.jupyter.widget-view+json": {
       "model_id": "764643a05f64407a9849b025fd2d6e91",
       "version_major": 2,
       "version_minor": 0
      },
      "text/plain": [
       "IntSlider(value=6, description='a', max=10, min=2)"
      ]
     },
     "metadata": {},
     "output_type": "display_data"
    },
    {
     "data": {
      "application/vnd.jupyter.widget-view+json": {
       "model_id": "c91844036f01462590dd8d36e1034c21",
       "version_major": 2,
       "version_minor": 0
      },
      "text/plain": [
       "ToggleButton(value=False, description='Transfer Value', disabled=True, icon='rotate-right')"
      ]
     },
     "metadata": {},
     "output_type": "display_data"
    },
    {
     "data": {
      "application/vnd.jupyter.widget-view+json": {
       "model_id": "95a3411744614aac8b29da4411f73628",
       "version_major": 2,
       "version_minor": 0
      },
      "text/plain": [
       "VBox(children=(Output(), HTML(value='<i class=\"fas fa-circle-notch fa-spin fa-3x\">', layout=Layout(display='no…"
      ]
     },
     "metadata": {},
     "output_type": "display_data"
    }
   ],
   "source": [
    "# File loading like interfaces can be achieved using a holding defer\n",
    "\n",
    "@rxi.apply\n",
    "@rxi.defer(hold=True, title=\"Transfer Value\")\n",
    "@rxi.stream\n",
    "def b(a=(2, 10)):\n",
    "    print(f\"a = {a}\")"
   ]
  },
  {
   "cell_type": "code",
   "execution_count": null,
   "id": "6729e990-b0fd-47f4-a4a4-2afbe36bdf2c",
   "metadata": {},
   "outputs": [],
   "source": []
  }
 ],
 "metadata": {
  "kernelspec": {
   "display_name": "Python 3 (ipykernel)",
   "language": "python",
   "name": "python3"
  },
  "language_info": {
   "codemirror_mode": {
    "name": "ipython",
    "version": 3
   },
   "file_extension": ".py",
   "mimetype": "text/x-python",
   "name": "python",
   "nbconvert_exporter": "python",
   "pygments_lexer": "ipython3",
   "version": "3.8.10"
  }
 },
 "nbformat": 4,
 "nbformat_minor": 5
}
