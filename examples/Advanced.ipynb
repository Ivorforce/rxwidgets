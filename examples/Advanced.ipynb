{
 "cells": [
  {
   "cell_type": "code",
   "execution_count": 1,
   "id": "3168ff16-acbf-40be-a325-ae1543c8ef42",
   "metadata": {},
   "outputs": [],
   "source": [
    "from rxwidgets import ipython as rxi, rx as rxn\n",
    "import ipywidgets\n",
    "import time\n",
    "import random"
   ]
  },
  {
   "cell_type": "code",
   "execution_count": 2,
   "id": "316bd621-3419-4dc1-b3bc-3a0ab6570b8d",
   "metadata": {},
   "outputs": [
    {
     "data": {
      "application/vnd.jupyter.widget-view+json": {
       "model_id": "b899f889548e407da56e5923690eec02",
       "version_major": 2,
       "version_minor": 0
      },
      "text/plain": [
       "IntSlider(value=6, description='a', max=10, min=2)"
      ]
     },
     "metadata": {},
     "output_type": "display_data"
    },
    {
     "data": {
      "application/vnd.jupyter.widget-view+json": {
       "model_id": "df54f851770d45bfbd1fd96f12891709",
       "version_major": 2,
       "version_minor": 0
      },
      "text/plain": [
       "IntSlider(value=50, description='b', min=10, step=10)"
      ]
     },
     "metadata": {},
     "output_type": "display_data"
    },
    {
     "data": {
      "application/vnd.jupyter.widget-view+json": {
       "model_id": "fa98444273b14de08f3b5d8828a93150",
       "version_major": 2,
       "version_minor": 0
      },
      "text/plain": [
       "VBox(children=(Output(), HTML(value='<i class=\"fas fa-circle-notch fa-spin fa-3x\">', layout=Layout(display='no…"
      ]
     },
     "metadata": {},
     "output_type": "display_data"
    },
    {
     "data": {
      "application/vnd.jupyter.widget-view+json": {
       "model_id": "8261bac83f8d4a1da52005ef4a755309",
       "version_major": 2,
       "version_minor": 0
      },
      "text/plain": [
       "IntSlider(value=6, description='a', max=10, min=2)"
      ]
     },
     "metadata": {},
     "output_type": "display_data"
    },
    {
     "data": {
      "application/vnd.jupyter.widget-view+json": {
       "model_id": "3ecaa68c18a8452fa594dd1d65a1befd",
       "version_major": 2,
       "version_minor": 0
      },
      "text/plain": [
       "IntSlider(value=50, description='b', min=10, step=10)"
      ]
     },
     "metadata": {},
     "output_type": "display_data"
    },
    {
     "data": {
      "application/vnd.jupyter.widget-view+json": {
       "model_id": "1425d3a7436a484a823973a61905e84d",
       "version_major": 2,
       "version_minor": 0
      },
      "text/plain": [
       "ToggleButton(value=False, description='Continue', disabled=True, icon='caret-right')"
      ]
     },
     "metadata": {},
     "output_type": "display_data"
    },
    {
     "data": {
      "application/vnd.jupyter.widget-view+json": {
       "model_id": "f5c69dd92ce74a30a20f86b8059c5b29",
       "version_major": 2,
       "version_minor": 0
      },
      "text/plain": [
       "VBox(children=(Output(), HTML(value='<i class=\"fas fa-circle-notch fa-spin fa-3x\">', layout=Layout(display='no…"
      ]
     },
     "metadata": {},
     "output_type": "display_data"
    }
   ],
   "source": [
    "# @interact corresponds to calls to stream, apply, voodoo\n",
    "\n",
    "@rxi.voodoo\n",
    "@rxi.apply\n",
    "@rxi.stream_defaults\n",
    "def c(a=(2, 10), b=(10, 100, 10)):    \n",
    "    print(f\"c = {a + b}\")\n",
    "    \n",
    "# @interact_manual corresponds to calls to stream, defer, apply, voodoo\n",
    "\n",
    "@rxi.voodoo\n",
    "@rxi.apply\n",
    "@rxi.defer\n",
    "@rxi.stream_defaults\n",
    "def c(a=(2, 10), b=(10, 100, 10)):    \n",
    "    print(f\"c = {a + b}\")"
   ]
  },
  {
   "cell_type": "code",
   "execution_count": 3,
   "id": "ca718e44-9f87-49be-9c9a-be3bc6e7560c",
   "metadata": {},
   "outputs": [
    {
     "data": {
      "application/vnd.jupyter.widget-view+json": {
       "model_id": "392b13f5483e4634900f538331c2ac48",
       "version_major": 2,
       "version_minor": 0
      },
      "text/plain": [
       "IntSlider(value=6, description='a', max=10, min=2)"
      ]
     },
     "metadata": {},
     "output_type": "display_data"
    },
    {
     "data": {
      "application/vnd.jupyter.widget-view+json": {
       "model_id": "f4253ac936f1475ab35308de5cd252fb",
       "version_major": 2,
       "version_minor": 0
      },
      "text/plain": [
       "IntSlider(value=50, description='b', min=10, step=10)"
      ]
     },
     "metadata": {},
     "output_type": "display_data"
    },
    {
     "data": {
      "application/vnd.jupyter.widget-view+json": {
       "model_id": "29cc445206794d6f8d7de95c8b91865f",
       "version_major": 2,
       "version_minor": 0
      },
      "text/plain": [
       "ToggleButton(value=False, description='Continue', disabled=True, icon='caret-right')"
      ]
     },
     "metadata": {},
     "output_type": "display_data"
    },
    {
     "data": {
      "application/vnd.jupyter.widget-view+json": {
       "model_id": "446483d3698c4b6a8330b515e5482f15",
       "version_major": 2,
       "version_minor": 0
      },
      "text/plain": [
       "VBox(children=(Output(), HTML(value='<i class=\"fas fa-circle-notch fa-spin fa-3x\">', layout=Layout(display='no…"
      ]
     },
     "metadata": {},
     "output_type": "display_data"
    }
   ],
   "source": [
    "# Long running functions can make use of @rxi.long. This inserts loading indicators\n",
    "\n",
    "@rxi.apply\n",
    "@rxi.long\n",
    "@rxi.defer\n",
    "@rxi.stream_defaults\n",
    "def c(a=(2, 10), b=(10, 100, 10)):    \n",
    "    time.sleep(2)\n",
    "    print(f\"c = {a + b}\")"
   ]
  },
  {
   "cell_type": "code",
   "execution_count": 4,
   "id": "7e903819-5166-4431-8c78-1391c763b574",
   "metadata": {},
   "outputs": [
    {
     "data": {
      "application/vnd.jupyter.widget-view+json": {
       "model_id": "f9a2a4c34b95414cbf3013eb286b2784",
       "version_major": 2,
       "version_minor": 0
      },
      "text/plain": [
       "IntSlider(value=6, description='a', max=10, min=2)"
      ]
     },
     "metadata": {},
     "output_type": "display_data"
    },
    {
     "data": {
      "application/vnd.jupyter.widget-view+json": {
       "model_id": "9b38d0627c1641c5bf986b863bd843ba",
       "version_major": 2,
       "version_minor": 0
      },
      "text/plain": [
       "ToggleButton(value=False, description='Randomize', disabled=True, icon='caret-right')"
      ]
     },
     "metadata": {},
     "output_type": "display_data"
    },
    {
     "data": {
      "application/vnd.jupyter.widget-view+json": {
       "model_id": "4b1b68def5e449158d19f0f195002fb6",
       "version_major": 2,
       "version_minor": 0
      },
      "text/plain": [
       "VBox(children=(Output(), HTML(value='<i class=\"fas fa-circle-notch fa-spin fa-3x\">', layout=Layout(display='no…"
      ]
     },
     "metadata": {},
     "output_type": "display_data"
    }
   ],
   "source": [
    "# Transient or IO functions can make use of retriggerable defers\n",
    "\n",
    "@rxi.apply\n",
    "@rxi.defer(retrigger=True, title=\"Randomize\")\n",
    "@rxi.stream_defaults\n",
    "def b(a=(2, 10)):\n",
    "    print(f\"b = {a * random.randrange(10)}\")"
   ]
  },
  {
   "cell_type": "code",
   "execution_count": 5,
   "id": "bf299553-7e48-49cd-b4d1-fca6b7e8d775",
   "metadata": {},
   "outputs": [
    {
     "data": {
      "application/vnd.jupyter.widget-view+json": {
       "model_id": "d4f3fd02e17f4d51b8b2f8a8afe239ed",
       "version_major": 2,
       "version_minor": 0
      },
      "text/plain": [
       "IntSlider(value=6, description='a', max=10, min=2)"
      ]
     },
     "metadata": {},
     "output_type": "display_data"
    },
    {
     "data": {
      "application/vnd.jupyter.widget-view+json": {
       "model_id": "09ad694e632941dfb05df61b61062e09",
       "version_major": 2,
       "version_minor": 0
      },
      "text/plain": [
       "ToggleButton(value=False, description='Transfer Value', disabled=True, icon='rotate-right')"
      ]
     },
     "metadata": {},
     "output_type": "display_data"
    },
    {
     "data": {
      "application/vnd.jupyter.widget-view+json": {
       "model_id": "9fe01c7fd55145309b40ff793ccf4fb4",
       "version_major": 2,
       "version_minor": 0
      },
      "text/plain": [
       "VBox(children=(Output(), HTML(value='<i class=\"fas fa-circle-notch fa-spin fa-3x\">', layout=Layout(display='no…"
      ]
     },
     "metadata": {},
     "output_type": "display_data"
    }
   ],
   "source": [
    "# File loading like interfaces can be achieved using a holding defer\n",
    "\n",
    "@rxi.apply\n",
    "@rxi.defer(hold=True, title=\"Transfer Value\")\n",
    "@rxi.stream_defaults\n",
    "def b(a=(2, 10)):\n",
    "    print(f\"a = {a}\")"
   ]
  },
  {
   "cell_type": "code",
   "execution_count": null,
   "id": "6729e990-b0fd-47f4-a4a4-2afbe36bdf2c",
   "metadata": {},
   "outputs": [],
   "source": []
  }
 ],
 "metadata": {
  "kernelspec": {
   "display_name": "Python 3 (ipykernel)",
   "language": "python",
   "name": "python3"
  },
  "language_info": {
   "codemirror_mode": {
    "name": "ipython",
    "version": 3
   },
   "file_extension": ".py",
   "mimetype": "text/x-python",
   "name": "python",
   "nbconvert_exporter": "python",
   "pygments_lexer": "ipython3",
   "version": "3.8.10"
  }
 },
 "nbformat": 4,
 "nbformat_minor": 5
}
