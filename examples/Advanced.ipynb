{
 "cells": [
  {
   "cell_type": "code",
   "execution_count": null,
   "id": "3168ff16-acbf-40be-a325-ae1543c8ef42",
   "metadata": {},
   "outputs": [],
   "source": [
    "from rxwidgets import ipython as rxi, rx as rxn\n",
    "import ipywidgets\n",
    "import time\n",
    "import random"
   ]
  },
  {
   "cell_type": "code",
   "execution_count": null,
   "id": "316bd621-3419-4dc1-b3bc-3a0ab6570b8d",
   "metadata": {},
   "outputs": [],
   "source": [
    "# @interact corresponds to calls to stream, apply, voodoo.\n",
    "\n",
    "@rxi.voodoo\n",
    "@rxi.apply\n",
    "@rxi.stream_defaults\n",
    "def c(a=(2, 10), b=(10, 100, 10)):    \n",
    "    print(f\"c = {a + b}\")\n",
    "    \n",
    "# @interact_manual corresponds to calls to stream, defer, apply, voodoo.\n",
    "\n",
    "@rxi.voodoo\n",
    "@rxi.apply\n",
    "@rxi.defer\n",
    "@rxi.stream_defaults\n",
    "def c(a=(2, 10), b=(10, 100, 10)):    \n",
    "    print(f\"c = {a + b}\")"
   ]
  },
  {
   "cell_type": "code",
   "execution_count": null,
   "id": "ca718e44-9f87-49be-9c9a-be3bc6e7560c",
   "metadata": {},
   "outputs": [],
   "source": [
    "# Long running functions can make use of @rxi.long. This inserts loading indicators.\n",
    "\n",
    "@rxi.apply\n",
    "@rxi.long\n",
    "@rxi.defer\n",
    "@rxi.stream_defaults\n",
    "def c(a=(2, 10), b=(10, 100, 10)):    \n",
    "    time.sleep(2)\n",
    "    print(f\"c = {a + b}\")"
   ]
  },
  {
   "cell_type": "code",
   "execution_count": null,
   "id": "7e903819-5166-4431-8c78-1391c763b574",
   "metadata": {},
   "outputs": [],
   "source": [
    "# Transient or IO functions can make use of retriggerable defers.\n",
    "\n",
    "@rxi.apply\n",
    "@rxi.defer(retrigger=True, title=\"Randomize\")\n",
    "@rxi.stream_defaults\n",
    "def b(a=(2, 10)):\n",
    "    print(f\"b = {a * random.randrange(10)}\")"
   ]
  },
  {
   "cell_type": "code",
   "execution_count": null,
   "id": "bf299553-7e48-49cd-b4d1-fca6b7e8d775",
   "metadata": {},
   "outputs": [],
   "source": [
    "# File loading like interfaces can be achieved using a holding defer.\n",
    "\n",
    "@rxi.apply\n",
    "@rxi.defer(hold=True, title=\"Transfer Value\")\n",
    "@rxi.stream_defaults\n",
    "def b(a=(2, 10)):\n",
    "    print(f\"a = {a}\")"
   ]
  },
  {
   "cell_type": "code",
   "execution_count": null,
   "id": "6729e990-b0fd-47f4-a4a4-2afbe36bdf2c",
   "metadata": {},
   "outputs": [],
   "source": []
  }
 ],
 "metadata": {
  "kernelspec": {
   "display_name": "Python (KUM)",
   "language": "python",
   "name": "kum"
  },
  "language_info": {
   "codemirror_mode": {
    "name": "ipython",
    "version": 3
   },
   "file_extension": ".py",
   "mimetype": "text/x-python",
   "name": "python",
   "nbconvert_exporter": "python",
   "pygments_lexer": "ipython3",
   "version": "3.10.2"
  }
 },
 "nbformat": 4,
 "nbformat_minor": 5
}
