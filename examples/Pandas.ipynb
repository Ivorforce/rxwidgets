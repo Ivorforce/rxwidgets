{
 "cells": [
  {
   "cell_type": "code",
   "execution_count": 1,
   "id": "3168ff16-acbf-40be-a325-ae1543c8ef42",
   "metadata": {},
   "outputs": [],
   "source": [
    "from rxwidgets import ipython as rxi, rx as rxn\n",
    "import ipywidgets\n",
    "import reactivex.operators as rxo\n",
    "import pandas as pd\n",
    "import uuid\n",
    "import reactivex as rx\n",
    "from pathlib import Path\n",
    "\n",
    "df = pd.DataFrame({\n",
    "    \"Type\": [\"Dog\", \"Dog\", \"Cat\", \"Hamster\", \"Hamster\"],\n",
    "    \"Name\": [\"Woofer\", \"Barken\", \"Meowth\", \"George\", \"Lukas\"],\n",
    "}, index=[uuid.uuid4() for i in range(5)])\n",
    "df.index.name = \"ID\""
   ]
  },
  {
   "cell_type": "code",
   "execution_count": 2,
   "id": "f4a2f224-ab42-4673-92f8-b9c29bc231d4",
   "metadata": {},
   "outputs": [
    {
     "data": {
      "application/vnd.jupyter.widget-view+json": {
       "model_id": "eb5c470dbab64f36bc69e49a9fd6e461",
       "version_major": 2,
       "version_minor": 0
      },
      "text/plain": [
       "VBox(children=(Button(description='Reset Filter', disabled=True, layout=Layout(width='300px'), style=ButtonSty…"
      ]
     },
     "metadata": {},
     "output_type": "display_data"
    },
    {
     "data": {
      "application/vnd.jupyter.widget-view+json": {
       "model_id": "1cb6633499054b2885661e11c5414b16",
       "version_major": 2,
       "version_minor": 0
      },
      "text/plain": [
       "VBox(children=(Output(), HTML(value='<i class=\"fas fa-circle-notch fa-spin fa-3x\">', layout=Layout(display='no…"
      ]
     },
     "metadata": {},
     "output_type": "display_data"
    }
   ],
   "source": [
    "# @rxi.pandas.filter_dataframe filters a DataDrame using values from its columns.\n",
    "\n",
    "filtered_df = rxi.pandas.dataframe.filter(df)\n",
    "rxi.display(filtered_df);"
   ]
  },
  {
   "cell_type": "code",
   "execution_count": 3,
   "id": "e341b86b-8cad-4aa4-a5ab-2be3a19fe769",
   "metadata": {},
   "outputs": [
    {
     "data": {
      "application/vnd.jupyter.widget-view+json": {
       "model_id": "475b180610dc47b78031d696008eb635",
       "version_major": 2,
       "version_minor": 0
      },
      "text/plain": [
       "SelectMultiple(layout=Layout(width='max-content'), options=(('Dog    Woofer    ', UUID('f7a88c48-7add-4460-a94…"
      ]
     },
     "metadata": {},
     "output_type": "display_data"
    },
    {
     "data": {
      "application/vnd.jupyter.widget-view+json": {
       "model_id": "b6b3b127b26d458c9bc97c7cc59b0218",
       "version_major": 2,
       "version_minor": 0
      },
      "text/plain": [
       "VBox(children=(Output(), HTML(value='<i class=\"fas fa-circle-notch fa-spin fa-3x\">', layout=Layout(display='no…"
      ]
     },
     "metadata": {},
     "output_type": "display_data"
    }
   ],
   "source": [
    "# @rxi.pandas.select_row allows selection of one or multiple rows from a dataframe.\n",
    "\n",
    "filtered_df = rxi.pandas.dataframe.select_row(df, multi=True)\n",
    "rxi.display(filtered_df);"
   ]
  },
  {
   "cell_type": "code",
   "execution_count": 6,
   "id": "ddc31dd4-83c7-4ae5-ae0b-f84904a14bb7",
   "metadata": {},
   "outputs": [
    {
     "data": {
      "application/vnd.jupyter.widget-view+json": {
       "model_id": "8758010fea0b4a60ae10be8fa0ff6747",
       "version_major": 2,
       "version_minor": 0
      },
      "text/plain": [
       "HBox(children=(VBox(children=(Output(), HTML(value='<i class=\"fas fa-circle-notch fa-spin fa-3x\">', layout=Lay…"
      ]
     },
     "metadata": {},
     "output_type": "display_data"
    },
    {
     "data": {
      "application/vnd.jupyter.widget-view+json": {
       "model_id": "865197ecc36f41658782f86bd8c687f9",
       "version_major": 2,
       "version_minor": 0
      },
      "text/plain": [
       "VBox(children=(Output(), HTML(value='<i class=\"fas fa-circle-notch fa-spin fa-3x\">', layout=Layout(display='no…"
      ]
     },
     "metadata": {},
     "output_type": "display_data"
    }
   ],
   "source": [
    "# Use of filter_dataframe and select_row can be chained for optimal subselection\n",
    "\n",
    "df_stream = rx.just(df)\n",
    "\n",
    "left_screen = rxi.Screen()\n",
    "right_screen = rxi.Screen()\n",
    "\n",
    "df_stream = rxi.flatten(rxi.apply(\n",
    "    rxi.stream_binding(rxi.pandas.dataframe.filter, df_stream),\n",
    "    screen=left_screen\n",
    "))\n",
    "df_stream = rxi.flatten(rxi.apply(\n",
    "    rxi.stream_binding(rxi.pandas.dataframe.select_row, df_stream, multi=True, rows=9),\n",
    "    screen=right_screen\n",
    "))\n",
    "display(ipywidgets.HBox(children=(left_screen.widget, right_screen.widget)))\n",
    "\n",
    "rxi.display(df_stream);"
   ]
  },
  {
   "cell_type": "code",
   "execution_count": 7,
   "id": "0e6f7c71-262b-44d8-828e-f35648c9b310",
   "metadata": {},
   "outputs": [
    {
     "data": {
      "application/vnd.jupyter.widget-view+json": {
       "model_id": "612c7f921b38428594298c7e29d3a9cf",
       "version_major": 2,
       "version_minor": 0
      },
      "text/plain": [
       "HBox(children=(Output(), VBox(children=(Output(), HTML(value='<i class=\"fas fa-circle-notch fa-spin fa-3x\">', …"
      ]
     },
     "metadata": {},
     "output_type": "display_data"
    },
    {
     "data": {
      "application/vnd.jupyter.widget-view+json": {
       "model_id": "6268143460524375a89c592677f45a19",
       "version_major": 2,
       "version_minor": 0
      },
      "text/plain": [
       "VBox(children=(Output(), HTML(value='<i class=\"fas fa-circle-notch fa-spin fa-3x\">', layout=Layout(display='no…"
      ]
     },
     "metadata": {},
     "output_type": "display_data"
    }
   ],
   "source": [
    "# @rxi.pandas.select_path() uses filter_dataframe and select_row to select one or multiple paths.\n",
    "# This can be useful for a simple file selector. Note: paths need not be local.\n",
    "\n",
    "# Normally, you might use Path(\"...\").glob(\"*/*/*\")\n",
    "paths = [\n",
    "    Path(\"Dogs/Woofer/1\"),\n",
    "    Path(\"Dogs/Woofer/2\"),\n",
    "    Path(\"Dogs/Woofer/3\"),\n",
    "    Path(\"Dogs/Woofer/1\"),\n",
    "    Path(\"Cats/Meowth/1\"),\n",
    "    Path(\"Cats/Meowth/2\"),\n",
    "    Path(\"Hamsters/George/1\"),\n",
    "    Path(\"Hamsters/Lukas/1\"),\n",
    "]\n",
    "selected_path = rxi.pandas.paths.select(paths, scheme=\"Type/Name/Filenumber\")\n",
    "rxi.display(selected_path);"
   ]
  },
  {
   "cell_type": "code",
   "execution_count": null,
   "id": "83eb5c22-2056-47a4-aa2e-13fb888f0125",
   "metadata": {},
   "outputs": [],
   "source": []
  }
 ],
 "metadata": {
  "kernelspec": {
   "display_name": "Python (rxwidgets)",
   "language": "python",
   "name": "kum"
  },
  "language_info": {
   "codemirror_mode": {
    "name": "ipython",
    "version": 3
   },
   "file_extension": ".py",
   "mimetype": "text/x-python",
   "name": "python",
   "nbconvert_exporter": "python",
   "pygments_lexer": "ipython3",
   "version": "3.8.10"
  }
 },
 "nbformat": 4,
 "nbformat_minor": 5
}
