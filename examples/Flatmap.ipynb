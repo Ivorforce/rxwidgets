{
 "cells": [
  {
   "cell_type": "code",
   "execution_count": 1,
   "id": "3168ff16-acbf-40be-a325-ae1543c8ef42",
   "metadata": {},
   "outputs": [],
   "source": [
    "from rxwidgets import ipython as rxi, rx as rxn\n",
    "import ipywidgets\n",
    "import time\n",
    "import random"
   ]
  },
  {
   "cell_type": "code",
   "execution_count": 3,
   "id": "e53595aa-87a0-4ba1-a363-1a8785990468",
   "metadata": {},
   "outputs": [
    {
     "data": {
      "application/vnd.jupyter.widget-view+json": {
       "model_id": "5d10d2d248584954a1449c0842247782",
       "version_major": 2,
       "version_minor": 0
      },
      "text/plain": [
       "IntRangeSlider(value=(-10, 10), max=20, min=-20)"
      ]
     },
     "metadata": {},
     "output_type": "display_data"
    },
    {
     "data": {
      "application/vnd.jupyter.widget-view+json": {
       "model_id": "ae6b84fabb0347638f48ec2fb47126a6",
       "version_major": 2,
       "version_minor": 0
      },
      "text/plain": [
       "VBox(children=(Output(), HTML(value='<i class=\"fas fa-circle-notch fa-spin fa-3x\">', layout=Layout(display='no…"
      ]
     },
     "metadata": {},
     "output_type": "display_data"
    },
    {
     "data": {
      "application/vnd.jupyter.widget-view+json": {
       "model_id": "3a610c82da48481dba0c36f91fc9f7d5",
       "version_major": 2,
       "version_minor": 0
      },
      "text/plain": [
       "VBox(children=(Output(), HTML(value='<i class=\"fas fa-circle-notch fa-spin fa-3x\">', layout=Layout(display='no…"
      ]
     },
     "metadata": {},
     "output_type": "display_data"
    },
    {
     "data": {
      "application/vnd.jupyter.widget-view+json": {
       "model_id": "db256e421b904412a0fe8f8b89c14ef5",
       "version_major": 2,
       "version_minor": 0
      },
      "text/plain": [
       "VBox(children=(Output(), HTML(value='<i class=\"fas fa-circle-notch fa-spin fa-3x\">', layout=Layout(display='no…"
      ]
     },
     "metadata": {},
     "output_type": "display_data"
    }
   ],
   "source": [
    "# ipywidgets can also be constructed from dynamic arguments using the rxi.widgets facades.\n",
    "\n",
    "@rxi.Voodoo\n",
    "@rxi.apply\n",
    "@rxi.stream_defaults\n",
    "def b(a=ipywidgets.IntRangeSlider(min=-20, max=20)):\n",
    "    return a\n",
    "\n",
    "@rxi.apply\n",
    "@rxi.stream_defaults\n",
    "def d(c=rxi.widgets.IntRangeSlider(min=b[0], max=b[1])):\n",
    "    print(f\"c = {c}\")"
   ]
  },
  {
   "cell_type": "code",
   "execution_count": null,
   "id": "cd299146-f90e-40cb-89c4-a71f5db13e13",
   "metadata": {},
   "outputs": [],
   "source": [
    "# You can also create your own dynamic widgets or internal pipelines and flatten them.\n",
    "\n",
    "@rxi.flatten\n",
    "@rxi.apply\n",
    "@rxi.stream_defaults\n",
    "def b(a=ipywidgets.IntRangeSlider(min=0, max=100)):\n",
    "    @rxi.apply\n",
    "    @rxi.stream_defaults\n",
    "    def b(a=(a[0], a[1])):\n",
    "        return a\n",
    "    return b\n",
    "\n",
    "@rxi.apply\n",
    "@rxi.stream_defaults\n",
    "def c(b=b):\n",
    "    print(f\"b = {b}\")"
   ]
  },
  {
   "cell_type": "code",
   "execution_count": null,
   "id": "6729e990-b0fd-47f4-a4a4-2afbe36bdf2c",
   "metadata": {},
   "outputs": [],
   "source": []
  }
 ],
 "metadata": {
  "kernelspec": {
   "display_name": "Python (KUM)",
   "language": "python",
   "name": "kum"
  },
  "language_info": {
   "codemirror_mode": {
    "name": "ipython",
    "version": 3
   },
   "file_extension": ".py",
   "mimetype": "text/x-python",
   "name": "python",
   "nbconvert_exporter": "python",
   "pygments_lexer": "ipython3",
   "version": "3.8.10"
  }
 },
 "nbformat": 4,
 "nbformat_minor": 5
}
