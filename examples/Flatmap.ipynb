{
 "cells": [
  {
   "cell_type": "code",
   "execution_count": 1,
   "id": "3168ff16-acbf-40be-a325-ae1543c8ef42",
   "metadata": {},
   "outputs": [],
   "source": [
    "from rxwidgets import ipython as rxi, rx as rxn\n",
    "import ipywidgets\n",
    "import time\n",
    "import random"
   ]
  },
  {
   "cell_type": "code",
   "execution_count": 2,
   "id": "e53595aa-87a0-4ba1-a363-1a8785990468",
   "metadata": {},
   "outputs": [
    {
     "data": {
      "application/vnd.jupyter.widget-view+json": {
       "model_id": "5d6f7d9040694540839a7e6abdd764fd",
       "version_major": 2,
       "version_minor": 0
      },
      "text/plain": [
       "IntRangeSlider(value=(-10, 10), max=20, min=-20)"
      ]
     },
     "metadata": {},
     "output_type": "display_data"
    },
    {
     "data": {
      "application/vnd.jupyter.widget-view+json": {
       "model_id": "03dec1df295447ba97cea21da3bc37c6",
       "version_major": 2,
       "version_minor": 0
      },
      "text/plain": [
       "VBox(children=(Output(), HTML(value='<i class=\"fas fa-circle-notch fa-spin fa-3x\">', layout=Layout(display='no…"
      ]
     },
     "metadata": {},
     "output_type": "display_data"
    },
    {
     "data": {
      "application/vnd.jupyter.widget-view+json": {
       "model_id": "b51966b9d3ad4f9194b498b63d3696bf",
       "version_major": 2,
       "version_minor": 0
      },
      "text/plain": [
       "VBox(children=(Output(), HTML(value='<i class=\"fas fa-circle-notch fa-spin fa-3x\">', layout=Layout(display='no…"
      ]
     },
     "metadata": {},
     "output_type": "display_data"
    },
    {
     "data": {
      "application/vnd.jupyter.widget-view+json": {
       "model_id": "f62fb3fb5f5a4b3885703c63090599c6",
       "version_major": 2,
       "version_minor": 0
      },
      "text/plain": [
       "VBox(children=(Output(), HTML(value='<i class=\"fas fa-circle-notch fa-spin fa-3x\">', layout=Layout(display='no…"
      ]
     },
     "metadata": {},
     "output_type": "display_data"
    }
   ],
   "source": [
    "# ipywidgets can also be constructed from dynamic arguments using the rxi.widgets facades\n",
    "\n",
    "@rxi.flatten\n",
    "@rxi.apply\n",
    "@rxi.stream_defaults\n",
    "def b(a=ipywidgets.IntRangeSlider(min=-20, max=20)):\n",
    "    return a\n",
    "\n",
    "@rxi.apply\n",
    "@rxi.stream_defaults\n",
    "def d(c=rxi.widgets.IntRangeSlider(min=b[0], max=b[1])):\n",
    "    print(f\"c = {c}\")"
   ]
  },
  {
   "cell_type": "code",
   "execution_count": 3,
   "id": "cd299146-f90e-40cb-89c4-a71f5db13e13",
   "metadata": {},
   "outputs": [
    {
     "data": {
      "application/vnd.jupyter.widget-view+json": {
       "model_id": "0a35f42f4af344c9bdd965512c5221de",
       "version_major": 2,
       "version_minor": 0
      },
      "text/plain": [
       "IntRangeSlider(value=(25, 75))"
      ]
     },
     "metadata": {},
     "output_type": "display_data"
    },
    {
     "data": {
      "application/vnd.jupyter.widget-view+json": {
       "model_id": "5dfe1d97a8dd493fbf83d58204351d2f",
       "version_major": 2,
       "version_minor": 0
      },
      "text/plain": [
       "VBox(children=(Output(), HTML(value='<i class=\"fas fa-circle-notch fa-spin fa-3x\">', layout=Layout(display='no…"
      ]
     },
     "metadata": {},
     "output_type": "display_data"
    },
    {
     "data": {
      "application/vnd.jupyter.widget-view+json": {
       "model_id": "75e709fda44d479591e159589451c563",
       "version_major": 2,
       "version_minor": 0
      },
      "text/plain": [
       "VBox(children=(Output(), HTML(value='<i class=\"fas fa-circle-notch fa-spin fa-3x\">', layout=Layout(display='no…"
      ]
     },
     "metadata": {},
     "output_type": "display_data"
    }
   ],
   "source": [
    "# You can also create your own dynamic widgets or internal pipelines and flatten them upon return\n",
    "\n",
    "@rxi.flatten\n",
    "@rxi.apply\n",
    "@rxi.stream_defaults\n",
    "def b(a=ipywidgets.IntRangeSlider(min=0, max=100)):\n",
    "    @rxi.apply\n",
    "    @rxi.stream_defaults\n",
    "    def b(a=(a[0], a[1])):\n",
    "        return a\n",
    "    return b\n",
    "\n",
    "@rxi.apply\n",
    "@rxi.stream_defaults\n",
    "def c(b=b):\n",
    "    print(f\"b = {b}\")"
   ]
  },
  {
   "cell_type": "code",
   "execution_count": null,
   "id": "6729e990-b0fd-47f4-a4a4-2afbe36bdf2c",
   "metadata": {},
   "outputs": [],
   "source": []
  }
 ],
 "metadata": {
  "kernelspec": {
   "display_name": "Python 3 (ipykernel)",
   "language": "python",
   "name": "python3"
  },
  "language_info": {
   "codemirror_mode": {
    "name": "ipython",
    "version": 3
   },
   "file_extension": ".py",
   "mimetype": "text/x-python",
   "name": "python",
   "nbconvert_exporter": "python",
   "pygments_lexer": "ipython3",
   "version": "3.8.10"
  }
 },
 "nbformat": 4,
 "nbformat_minor": 5
}
